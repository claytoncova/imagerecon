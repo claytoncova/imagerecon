{
 "cells": [
  {
   "cell_type": "markdown",
   "id": "1caee08d-4d51-4dfc-925e-b6b804a6b1e8",
   "metadata": {},
   "source": [
    "# Olá Mundo"
   ]
  },
  {
   "cell_type": "markdown",
   "id": "85c7af0e-e0eb-4bcc-add0-e791c7512f52",
   "metadata": {},
   "source": [
    "Este notebook é um documento de modelagem de visão computacional!"
   ]
  },
  {
   "cell_type": "code",
   "execution_count": 2,
   "id": "9f17db84-c50d-44da-866e-31861a3bdd98",
   "metadata": {},
   "outputs": [
    {
     "name": "stdout",
     "output_type": "stream",
     "text": [
      "hello world\n"
     ]
    }
   ],
   "source": [
    "print(\"hello world\")"
   ]
  }
 ],
 "metadata": {
  "kernelspec": {
   "display_name": "Python 3 (ipykernel)",
   "language": "python",
   "name": "python3"
  },
  "language_info": {
   "codemirror_mode": {
    "name": "ipython",
    "version": 3
   },
   "file_extension": ".py",
   "mimetype": "text/x-python",
   "name": "python",
   "nbconvert_exporter": "python",
   "pygments_lexer": "ipython3",
   "version": "3.10.12"
  }
 },
 "nbformat": 4,
 "nbformat_minor": 5
}
